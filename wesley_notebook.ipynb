{
 "cells": [
  {
   "cell_type": "code",
   "execution_count": null,
   "id": "879c30b9-09c6-4d41-be31-651845eaa6d9",
   "metadata": {},
   "outputs": [],
   "source": [
    "import matplotlib.pyplot as plt\n",
    "import seaborn as sns\n",
    "from matplotlib.ticker import FuncFormatter\n",
    "from sklearn.linear_model import LinearRegression\n",
    "from sklearn.metrics import r2_score"
   ]
  },
  {
   "cell_type": "code",
   "execution_count": null,
   "id": "015441e9-0068-43c3-ac76-ed6997f0fabb",
   "metadata": {},
   "outputs": [],
   "source": [
    "cleaned_df = merged_df.drop(['start_year','original_title','id','movie'],axis=1)\n",
    "\n",
    "grouped_df = cleaned_df.groupby('director_name').agg(\n",
    "    {'movie_id': ['count'],\n",
    "    'primary_title': lambda x: list(x),\n",
    "     'production_budget': ['sum', 'mean'], \n",
    "     'worldwide_gross': ['sum', 'mean'],\n",
    "     'Profit:Production Ratio': ['sum', 'mean'],\n",
    "     'Profit': ['sum', 'mean']}\n",
    ")\n",
    "\n",
    "grouped_df.columns = [\n",
    "    f\"{col[0]}_{col[1]}\" for col in grouped_df.columns\n",
    "]\n",
    "\n",
    "grouped_df[grouped_df['movie_id_count']>0].sort_values(by=['Profit:Production Ratio_mean'],ascending=False)"
   ]
  },
  {
   "cell_type": "code",
   "execution_count": null,
   "id": "bd68704e-99cc-4dc1-92dc-b782c1e632a5",
   "metadata": {},
   "outputs": [],
   "source": [
    "sorted_profit = grouped_df.reset_index().sort_values(by='Profit:Production Ratio_mean', ascending=False)\n",
    "\n",
    "plt.figure(figsize=(10, 6))\n",
    "sns.barplot(x='Profit:Production Ratio_mean', y='director_name', data=sorted_profit.head(10))\n",
    "\n",
    "# Set the title and labels\n",
    "plt.title('Top 10 Directors with the Highest ROI')\n",
    "plt.xlabel('Average ROI')\n",
    "plt.ylabel('Director Name')\n",
    "\n",
    "plt.savefig('top 10 directors by ROI.png')\n",
    "\n",
    "plt.show()\n"
   ]
  },
  {
   "cell_type": "code",
   "execution_count": null,
   "id": "f0e2cbf5-2e29-4cee-940c-20a918055451",
   "metadata": {},
   "outputs": [],
   "source": [
    "plt.figure(figsize=(10, 6))\n",
    "sns.regplot(x='production_budget', y='worldwide_gross', data=merged_df, scatter_kws={'alpha':0.5})\n",
    "plt.title('Production Budget vs. Profit with Linear Regression')\n",
    "plt.xlabel('Production Budget ($)')\n",
    "plt.ylabel('Worldwide Gross ($)')\n",
    "\n",
    "plt.savefig('production vs gross regression.png')\n",
    "plt.show()"
   ]
  },
  {
   "cell_type": "code",
   "execution_count": null,
   "id": "6a9af9b8-6644-4cec-b0b7-2a12ca78a28d",
   "metadata": {},
   "outputs": [],
   "source": [
    "low_budget_threshold = merged_df['production_budget'].quantile(0.33)\n",
    "medium_budget_threshold = merged_df['production_budget'].quantile(0.66)\n",
    "\n",
    "# Assigning categories based on these thresholds\n",
    "budget_categories = pd.cut(merged_df['production_budget'], \n",
    "                           bins=[0, low_budget_threshold, medium_budget_threshold, merged_df['production_budget'].max()], \n",
    "                           labels=['Low', 'Medium', 'High'])\n",
    "# Plotting Production Budget vs. Worldwide Gross:Production Ratio\n",
    "plt.figure(figsize=(10, 6))\n",
    "sns.scatterplot(x='production_budget', y='Profit:Production Ratio', hue=budget_categories, data=merged_df)\n",
    "plt.title('Production Budget vs. Profit:Production Ratio')\n",
    "plt.xlabel('Production Budget ($)')\n",
    "plt.ylabel('Profit:Production Ratio')\n",
    "\n",
    "# Highlighting the point with the maximum ratio\n",
    "max_efficiency_point = merged_df.loc[merged_df['Worldwide Gross:Production Ratio'].idxmax()]\n",
    "plt.scatter(max_efficiency_point['production_budget'], max_efficiency_point['Profit:Production Ratio'], color='red')\n",
    "plt.text(max_efficiency_point['production_budget'], max_efficiency_point['Profit:Production Ratio'], \n",
    "         f\"  Budget: ${int(max_efficiency_point['production_budget'])}\\n  Ratio: {max_efficiency_point['Profit:Production Ratio']:.2f}\", \n",
    "         verticalalignment='top')\n",
    "\n",
    "plt.savefig('production vs ratio scatter.png')\n",
    "\n",
    "plt.show()"
   ]
  },
  {
   "cell_type": "code",
   "execution_count": null,
   "id": "a2e07ace-f9a9-45fc-a2ad-4974b44e2984",
   "metadata": {},
   "outputs": [],
   "source": [
    "X = merged_df[['production_budget']].values.reshape(-1, 1) \n",
    "y = merged_df['worldwide_gross'].values\n",
    "\n",
    "\n",
    "model = LinearRegression()\n",
    "model.fit(X, y)\n",
    "\n",
    "# Predicting the profits\n",
    "y_pred = model.predict(X)\n",
    "\n",
    "# Calculating the R-squared value\n",
    "r_squared = r2_score(y, y_pred)\n",
    "\n",
    "print(f'R-squared value: {r_squared}')"
   ]
  },
  {
   "cell_type": "code",
   "execution_count": null,
   "id": "fec3beb9-95e6-405b-87ed-72197c19373b",
   "metadata": {},
   "outputs": [],
   "source": [
    "# Overall Regression Plot\n",
    "plt.figure(figsize=(10, 6))\n",
    "sns.scatterplot(x='production_budget', y='worldwide_gross', data=merged_df)\n",
    "sns.regplot(x='production_budget', y='worldwide_gross', data=merged_df, scatter=False)\n",
    "\n",
    "plt.title('Production Budget vs. Worldwide Gross')\n",
    "plt.xlabel('Production Budget ($)')\n",
    "plt.ylabel('Worldwide Gross ($)')\n",
    "\n",
    "plt.savefig('production vs gross .png')\n",
    "plt.show()"
   ]
  },
  {
   "cell_type": "code",
   "execution_count": null,
   "id": "e2a7c5ea-8ac7-4075-a1d2-be42080f6c0b",
   "metadata": {},
   "outputs": [],
   "source": [
    "# Horror Regression Plot\n",
    "merged_df['Is_Horror'] = merged_df['genres'].str.contains('Horror', na=False)\n",
    "\n",
    "plt.figure(figsize=(10, 6))\n",
    "sns.scatterplot(x='production_budget', y='worldwide_gross', hue = 'Is_Horror',data=merged_df)\n",
    "sns.regplot(x='production_budget', y='worldwide_gross', data=merged_df, scatter=False)\n",
    "\n",
    "plt.title('Production Budget vs. Worldwide Gross with Highlight on Horror Genre')\n",
    "plt.xlabel('Production Budget ($)')\n",
    "plt.ylabel('Worldwide Gross ($)')\n",
    "\n",
    "plt.savefig('production vs gross .png')\n",
    "plt.show()"
   ]
  },
  {
   "cell_type": "code",
   "execution_count": null,
   "id": "4ff51e46-551d-4d67-9925-eff330289121",
   "metadata": {},
   "outputs": [],
   "source": []
  }
 ],
 "metadata": {
  "kernelspec": {
   "display_name": "Python (learn-env)",
   "language": "python",
   "name": "learn-env"
  },
  "language_info": {
   "codemirror_mode": {
    "name": "ipython",
    "version": 3
   },
   "file_extension": ".py",
   "mimetype": "text/x-python",
   "name": "python",
   "nbconvert_exporter": "python",
   "pygments_lexer": "ipython3",
   "version": "3.11.5"
  }
 },
 "nbformat": 4,
 "nbformat_minor": 5
}
