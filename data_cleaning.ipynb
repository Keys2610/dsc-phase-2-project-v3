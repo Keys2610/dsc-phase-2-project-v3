{
 "cells": [
  {
   "cell_type": "code",
   "execution_count": null,
   "id": "523fffe2",
   "metadata": {},
   "outputs": [],
   "source": [
    "import pandas as pd\n",
    "import zipfile\n",
    "import sqlite3\n",
    "import os\n",
    "# non IMDB \n",
    "bom = pd.read_csv('zippedData/bom.movie_gross.csv.gz')\n",
    "tmbd = pd.read_csv('zippedData/tmdb.movies.csv.gz')\n",
    "tn_budgets = pd.read_csv('zippedData/tn.movie_budgets.csv.gz')\n",
    "rt_info = pd.read_csv('zippedData/rt.movie_info.tsv.gz',sep='\\t')\n",
    "rt_review = pd.read_csv('zippedData/rt.reviews.tsv.gz',sep='\\t',encoding='latin-1')"
   ]
  },
  {
   "cell_type": "code",
   "execution_count": null,
   "id": "0b3bdb0b",
   "metadata": {},
   "outputs": [],
   "source": [
    "extraction_path = 'zippedData/' \n",
    "zip_file_path = 'zippedData/im.db.zip'\n",
    "with zipfile.ZipFile('zippedData/im.db.zip', 'r') as zip_ref:\n",
    "    zip_ref.extractall(extraction_path)\n",
    "\n",
    "# The .db file should now be in the extraction_path directory\n",
    "# Assuming the .db file has the same name as the .zip file\n",
    "db_file_name = os.path.basename(zip_file_path).replace('.zip', '')\n",
    "db_file_path = os.path.join(extraction_path, db_file_name)\n",
    "\n",
    "# Connect to the SQLite database\n",
    "conn = sqlite3.connect(db_file_path)\n",
    "\n",
    "# Perform database operations\n",
    "cursor = conn.cursor()\n",
    "\n",
    "# For example, to print the list of tables\n",
    "# cursor.execute(\"SELECT name FROM sqlite_master WHERE type='table';\")\n",
    "# print(cursor.fetchall())\n",
    "\n",
    "query_movie_basics = (\"SELECT * FROM movie_basics\")\n",
    "query_directors = (\"SELECT * FROM directors\")\n",
    "query_known_for = (\"SELECT * FROM known_for\")\n",
    "query_movie_akas = (\"SELECT * FROM movie_akas\")\n",
    "query_movie_ratings = (\"SELECT * FROM movie_ratings\")\n",
    "query_persons = (\"SELECT * FROM persons\")\n",
    "query_principals = (\"SELECT * FROM principals\")\n",
    "query_writers = (\"SELECT * FROM writers\")\n",
    "\n",
    "big_query = (\n",
    "\"\"\"\n",
    "SELECT \n",
    "movie.movie_id,\n",
    "movie.start_year,\n",
    "movie.primary_title,\n",
    "movie.original_title,\n",
    "movie.genres,\n",
    "movie.runtime_minutes,\n",
    "MAX(IIF(principals.category='director',persons.primary_name,NULL)) as director_name,\n",
    "MAX(IIF(principals.category='writer',persons.primary_name,NULL)) as writer_name,\n",
    "GROUP_CONCAT(IIF(principals.category='actor',persons.primary_name,NULL),', ') as actors\n",
    "FROM movie_basics as movie\n",
    "LEFT JOIN principals \n",
    "    ON movie.movie_id = principals.movie_id \n",
    "LEFT JOIN persons \n",
    "    ON persons.person_id = principals.person_id\n",
    "GROUP BY 1\n",
    "\"\"\"\n",
    ")\n",
    "\n",
    "\n",
    "\n",
    "movie_basics_df = pd.read_sql_query(query_movie_basics,conn)\n",
    "directors_df = pd.read_sql_query(query_directors,conn)\n",
    "known_for_df = pd.read_sql_query(query_known_for,conn)\n",
    "movie_akas_df = pd.read_sql_query(query_movie_akas,conn)\n",
    "movie_ratings_df = pd.read_sql_query(query_movie_ratings,conn)\n",
    "persons_df = pd.read_sql_query(query_persons,conn)\n",
    "principals_df = pd.read_sql_query(query_principals,conn)\n",
    "writers_df = pd.read_sql_query(query_writers,conn)\n",
    "\n",
    "big_df = pd.read_sql_query(big_query,conn)\n",
    "\n",
    "conn.close()"
   ]
  },
  {
   "cell_type": "code",
   "execution_count": null,
   "id": "773c0028-623d-46c8-b209-7c7c1d207c6b",
   "metadata": {},
   "outputs": [],
   "source": [
    "big_df.head()"
   ]
  },
  {
   "cell_type": "code",
   "execution_count": null,
   "id": "5afb6497",
   "metadata": {},
   "outputs": [],
   "source": [
    "movie_basics_df.head()"
   ]
  },
  {
   "cell_type": "code",
   "execution_count": null,
   "id": "5a9f39d7",
   "metadata": {},
   "outputs": [],
   "source": [
    "bom.info()"
   ]
  },
  {
   "cell_type": "code",
   "execution_count": null,
   "id": "4d5a73a2-d2a5-4d2b-a108-e23bcc74d9f9",
   "metadata": {},
   "outputs": [],
   "source": [
    "tmbd.info()"
   ]
  },
  {
   "cell_type": "code",
   "execution_count": null,
   "id": "329d1945-7d22-4e4d-8ae5-306f01ff9b4a",
   "metadata": {},
   "outputs": [],
   "source": [
    "tn_budgets.info()"
   ]
  },
  {
   "cell_type": "code",
   "execution_count": null,
   "id": "9e290af6-65e1-4a2b-b673-6dac4f45513d",
   "metadata": {},
   "outputs": [],
   "source": [
    "rt_info.info()"
   ]
  },
  {
   "cell_type": "code",
   "execution_count": null,
   "id": "e4038fad-c3b7-428f-a8a3-502bd8cd7117",
   "metadata": {},
   "outputs": [],
   "source": [
    "rt_review.info()"
   ]
  },
  {
   "cell_type": "code",
   "execution_count": null,
   "id": "b88ab76e-937a-4fff-a2ef-137b83ca4f72",
   "metadata": {},
   "outputs": [],
   "source": [
    "# need to check for movie name title discrepencies "
   ]
  },
  {
   "cell_type": "code",
   "execution_count": null,
   "id": "a74fc8ff-0f6a-4081-9a4a-c45c38f294c9",
   "metadata": {},
   "outputs": [],
   "source": [
    "rt_review.head()"
   ]
  },
  {
   "cell_type": "code",
   "execution_count": null,
   "id": "3199eec5-4a9a-4ca2-8f5c-1445dc349384",
   "metadata": {},
   "outputs": [],
   "source": [
    "rt_info.head()"
   ]
  },
  {
   "cell_type": "code",
   "execution_count": null,
   "id": "8bb948b9-e07d-44ff-a784-a084828cd0c6",
   "metadata": {},
   "outputs": [],
   "source": [
    "#could be useful for foreign language films\n",
    "movie_akas_df.head()"
   ]
  },
  {
   "cell_type": "code",
   "execution_count": null,
   "id": "eb64a8be-f4df-4b2c-aa32-1517b3a8b7a7",
   "metadata": {},
   "outputs": [],
   "source": [
    "directors_df.head()"
   ]
  },
  {
   "cell_type": "code",
   "execution_count": null,
   "id": "e64858b0-ec4f-442c-a6ed-0298abce4996",
   "metadata": {},
   "outputs": [],
   "source": [
    "known_for_df.head()"
   ]
  },
  {
   "cell_type": "code",
   "execution_count": null,
   "id": "b1395ec4-0f70-42bd-aff0-ccbfe6bebf9e",
   "metadata": {},
   "outputs": [],
   "source": [
    "persons_df.head()"
   ]
  },
  {
   "cell_type": "code",
   "execution_count": null,
   "id": "f97ad03c-dbeb-4567-977f-f31aa70cd899",
   "metadata": {},
   "outputs": [],
   "source": [
    "movie_basics_df.head()"
   ]
  },
  {
   "cell_type": "code",
   "execution_count": null,
   "id": "255b900f-094d-4d23-b3ca-c1b49be88027",
   "metadata": {},
   "outputs": [],
   "source": [
    "tn_budgets.head()"
   ]
  },
  {
   "cell_type": "code",
   "execution_count": null,
   "id": "0c26a04e-4511-4734-a1ba-5f6f1c28d144",
   "metadata": {},
   "outputs": [],
   "source": [
    "#Use tn_budgets for production cost, domestic gross, foreign gross, release date\n",
    "#directors_df combined with principles_df for directors\n",
    "#movie_basics_df has runtime and genre, and title\n",
    "#persons_df has profession and name (for actors)\n",
    "#movie_ratings_df has user ratings\n",
    "#connecting tn_budgets to imdb databases with tn_budgets movie to movie basics origional title or primary title\n",
    "#need to establish budget floor and release date floor\n",
    "#not using rotten tomatoes as it has no movie title for some reason"
   ]
  },
  {
   "cell_type": "code",
   "execution_count": null,
   "id": "519e0379-c749-4e7a-ade9-c48a7286a27a",
   "metadata": {},
   "outputs": [],
   "source": [
    "tn_budgets.head()\n",
    "\n",
    "tn_budgets['year'] = pd.DatetimeIndex(tn_budgets['release_date']).year\n",
    "\n",
    "tn_budgets[tn_budgets['movie']=='On the Road']"
   ]
  },
  {
   "cell_type": "code",
   "execution_count": null,
   "id": "c24151f3",
   "metadata": {},
   "outputs": [],
   "source": [
    "merged_df = pd.merge(big_df, tn_budgets, left_on=['primary_title','start_year'],right_on=['movie','year'])\n",
    "\n",
    "\n",
    "gross = pd.to_numeric(merged_df['worldwide_gross'].str.replace('\\$', '', regex=True).str.replace(',',''))\n",
    "production = pd.to_numeric(merged_df['production_budget'].str.replace('\\$', '', regex=True).str.replace(',',''))\n",
    "domestic = pd.to_numeric(merged_df['domestic_gross'].str.replace('\\$', '', regex=True).str.replace(',',''))\n",
    "\n",
    "merged_df['worldwide_gross'] = gross\n",
    "merged_df['production_budget'] = production\n",
    "merged_df['domestic_gross'] = domestic\n",
    "merged_df['Profit'] = gross - production\n",
    "\n",
    "\n",
    "merged_df['Profit:Production Ratio'] = (merged_df['Profit']/production)\n",
    "\n",
    "merged_df = merged_df[merged_df['worldwide_gross']!='$0']\n",
    "\n",
    "merged_df['release_date'] = pd.to_datetime(merged_df['release_date'])\n",
    "\n",
    "merged_df = merged_df.dropna(subset=['genres'])\n",
    "merged_df = merged_df.dropna(subset=['runtime_minutes'])\n",
    "\n",
    "merged_df = merged_df[merged_df['release_date'] >= '2000-01-01']\n",
    "\n",
    "merged_df = merged_df[merged_df['production_budget'] >= 1000000]\n",
    "\n",
    "merged_df"
   ]
  },
  {
   "cell_type": "code",
   "execution_count": null,
   "id": "2234a8eb",
   "metadata": {},
   "outputs": [],
   "source": []
  }
 ],
 "metadata": {
  "kernelspec": {
   "display_name": "Python 3 (ipykernel)",
   "language": "python",
   "name": "python3"
  },
  "language_info": {
   "codemirror_mode": {
    "name": "ipython",
    "version": 3
   },
   "file_extension": ".py",
   "mimetype": "text/x-python",
   "name": "python",
   "nbconvert_exporter": "python",
   "pygments_lexer": "ipython3",
   "version": "3.11.5"
  }
 },
 "nbformat": 4,
 "nbformat_minor": 5
}
