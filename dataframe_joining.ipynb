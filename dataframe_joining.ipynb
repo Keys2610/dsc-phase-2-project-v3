{
 "cells": [
  {
   "cell_type": "code",
   "execution_count": null,
   "id": "e33612dc-fe95-4a3e-b302-8a5133053b7b",
   "metadata": {},
   "outputs": [],
   "source": [
    "%run Noahworkspace.ipynb\n",
    "%run Sakeah_WS.ipynb\n",
    "%run wesley_notebook.ipynb"
   ]
  },
  {
   "cell_type": "code",
   "execution_count": null,
   "id": "0a508ccc-db0f-41f7-9005-bdc53572ebe1",
   "metadata": {},
   "outputs": [],
   "source": [
    "list_of_shared_column_names = ['movie_id', 'start_year', 'primary_title', 'original_title', 'genres', 'runtime_minutes', 'director_name', 'writer_name', 'actors', 'id', 'release_date', 'movie', 'production_budget', 'domestic_gross', 'worldwide_gross', 'year', 'Profit', 'Profit:Production Ratio']"
   ]
  },
  {
   "cell_type": "code",
   "execution_count": null,
   "id": "96fa1d28-d4ca-4fe0-8a94-51849c0bdc38",
   "metadata": {},
   "outputs": [],
   "source": [
    "merge_1_df = noa_df.merge(sak_df_1, left_on= list_of_shared_column_names,right_on= list_of_shared_column_names)\n",
    "merge_2_df = merge_1_df.merge(sak_df_2, left_on= list_of_shared_column_names,right_on= list_of_shared_column_names)\n",
    "final_merge_df = merge_2_df.merge(wes_df, left_on= list_of_shared_column_names,right_on= list_of_shared_column_names)"
   ]
  }
 ],
 "metadata": {
  "kernelspec": {
   "display_name": "Python 3 (ipykernel)",
   "language": "python",
   "name": "python3"
  },
  "language_info": {
   "codemirror_mode": {
    "name": "ipython",
    "version": 3
   },
   "file_extension": ".py",
   "mimetype": "text/x-python",
   "name": "python",
   "nbconvert_exporter": "python",
   "pygments_lexer": "ipython3",
   "version": "3.9.16"
  }
 },
 "nbformat": 4,
 "nbformat_minor": 5
}
